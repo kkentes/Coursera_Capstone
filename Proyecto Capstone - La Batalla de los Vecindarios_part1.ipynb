{
    "cells": [
        {
            "cell_type": "markdown",
            "metadata": {
                "collapsed": true
            },
            "source": [
                "# La batalla de los vecindarios: introducción/problema de negocios"
            ]
        },
        {
            "cell_type": "markdown",
            "metadata": {},
            "source": [
                "## Introducción:"
            ]
        },
        {
            "cell_type": "markdown",
            "metadata": {},
            "source": [
                "El objetivo principal de este proyecto es ayudar a las personas a explorar mejores instalaciones alrededor de su vecindario. Ayudará a las personas a tomar una decisión inteligente y eficiente sobre la elección de excelentes vecindarios entre muchos otros vecindarios en Scarborough, Toronto.\n",
                "\n",
                "Muchas personas están emigrando a muchos estados diferentes de Canadá y necesitan mucha investigación para obtener precios de vivienda sólidos y escuelas de renombre para sus hijos. Este proyecto es para aquellas personas que buscan mejores vecindarios. Para facilitar el acceso a cafetería, escuela, supermercado, tiendas médicas, tiendas de comestibles, centros comerciales, teatros, hospitales, personas de ideas afines, etc.\n",
                "\n",
                "Este proyecto tiene la intención de crear un análisis de las características de las personas que están migrando a Scarborough en busca del mejor vecindario como un análisis relativo entre los vecindarios. Los aspectos más destacados incluyen el precio medio de la vivienda y una mejor escuela de acuerdo con las calificaciones, las tasas de criminalidad de esa área en particular, la conectividad vial, las condiciones climáticas, la buena gestión para una emergencia, los recursos hídricos tanto frescos como residuales y los excrementos transportados en alcantarillas e instalaciones recreativas.\n",
                "\n",
                "Ayudará a las personas a conocer el área y el vecindario antes de mudarse a una nueva ciudad, estado, país o lugar para su trabajo o para comenzar una nueva vida."
            ]
        },
        {
            "cell_type": "markdown",
            "metadata": {},
            "source": [
                "## Problema que intentó resolver:"
            ]
        },
        {
            "cell_type": "markdown",
            "metadata": {},
            "source": [
                "El objetivo principal de este proyecto es recomendar un mejor vecindario en una nueva ciudad para la persona que se muda allí. Presencia social en la sociedad en términos de personas de ideas afines. Conectividad al aeropuerto, parada de autobús, centro de la ciudad, mercados y otras necesidades diarias cosas cercanas.\n",
                "\n",
                "1) Lista ordenada de la casa en términos de precios de vivienda en orden ascendente o descendente\n",
                "\n",
                "2) Lista ordenada de escuelas en términos de ubicación, tarifas, calificación y revisiones"
            ]
        },
        {
            "cell_type": "markdown",
            "metadata": {},
            "source": [
                "## La ubicación:"
            ]
        },
        {
            "cell_type": "markdown",
            "metadata": {},
            "source": [
                "Scarborough es un destino favorito para los nuevos inmigrantes en Canadá para residir. Como resultado, es una de las áreas más distintas y multiculturales en el área metropolitana de Toronto, siendo el hogar de varios grupos religiosos y lugares de culto. Aunque la inmigración se ha convertido en un tema candente en los últimos años con más gobiernos que buscan más restricciones a los inmigrantes y refugiados, la tendencia general de la inmigración a Canadá ha sido uno de los aumentos."
            ]
        },
        {
            "cell_type": "markdown",
            "metadata": {},
            "source": [
                "## Foursquare API:"
            ]
        },
        {
            "cell_type": "markdown",
            "metadata": {},
            "source": [
                "Este proyecto utilizaría la API de cuatro cuadrados como su principal fuente de recopilación de datos, ya que tiene una base de datos de millones de lugares, en particular su API de lugares que proporciona la capacidad de realizar búsquedas de ubicación, compartir ubicaciones y detalles sobre un negocio."
            ]
        },
        {
            "cell_type": "markdown",
            "metadata": {},
            "source": [
                "## Work Flow:"
            ]
        },
        {
            "cell_type": "markdown",
            "metadata": {},
            "source": [
                "Usando las credenciales de la API de Foursquare, se extraerían las características de los lugares cercanos de los vecindarios. Debido a las restricciones de solicitud HTTP, el número de lugares por parámetro de vecindario se establecería razonablemente en 100 y el parámetro de radio se establecería en 500."
            ]
        },
        {
            "cell_type": "markdown",
            "metadata": {},
            "source": [
                "## Estrategia de agrupación:"
            ]
        },
        {
            "cell_type": "markdown",
            "metadata": {},
            "source": [
                "Para comparar las similitudes de dos ciudades, decidimos examinar vecindarios, segmentarlos y agruparlos en grupos para encontrar vecindarios similares en una gran ciudad como Nueva York y Toronto. Para poder hacer eso, necesitamos agrupar datos, que es una forma de aprendizaje automático no supervisado: un algoritmo de agrupación de k-means"
            ]
        },
        {
            "cell_type": "markdown",
            "metadata": {},
            "source": [
                "## Bibliotecas que se utilizan para desarrollar el proyecto:"
            ]
        },
        {
            "cell_type": "markdown",
            "metadata": {},
            "source": [
                "1. Pandas: Para crear y manipular marcos de datos.\n",
                "\n",
                "1. Folium: La biblioteca de visualización de Python se usaría para visualizar la distribución del clúster del vecindario utilizando un mapa interactivo de folletos.\n",
                "\n",
                "1. Scikit Learn: Para importar k-means clustering.\n",
                "\n",
                "1. JSON: Biblioteca para manejar archivos JSON.\n",
                "\n",
                "1. XML: Para separar los datos de la presentación y XML almacena los datos en formato de texto sin formato.\n",
                "\n",
                "1. Geocoder: Para recuperar datos de ubicación.\n",
                "\n",
                "1. Hermosa sopa y solicitudes: para desechar y biblioteca para manejar solicitudes HTTP.\n",
                "\n",
                "1. Matplotlib: al módulo de trazado de Python."
            ]
        },
        {
            "cell_type": "markdown",
            "metadata": {},
            "source": []
        }
    ],
    "metadata": {
        "kernelspec": {
            "display_name": "Python 3.10.9 64-bit (microsoft store)",
            "language": "python",
            "name": "python3"
        },
        "language_info": {
            "codemirror_mode": {
                "name": "ipython",
                "version": 3
            },
            "file_extension": ".py",
            "mimetype": "text/x-python",
            "name": "python",
            "nbconvert_exporter": "python",
            "pygments_lexer": "ipython3",
            "version": "3.10.9"
        },
        "vscode": {
            "interpreter": {
                "hash": "d1a1120d6b703f94660d8a0a86efaeba37d220648474f25f942e1d3645fcdcb7"
            }
        }
    },
    "nbformat": 4,
    "nbformat_minor": 1
}
