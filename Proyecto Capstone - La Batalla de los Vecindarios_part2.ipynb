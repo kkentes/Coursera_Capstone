{
    "cells": [
        {
            "cell_type": "markdown",
            "metadata": {
                "collapsed": true
            },
            "source": [
                "# La batalla de los barrios: descripción de los datos"
            ]
        },
        {
            "cell_type": "markdown",
            "metadata": {},
            "source": [
                "## Descripción de los datos:"
            ]
        },
        {
            "cell_type": "markdown",
            "metadata": {},
            "source": [
                "Enlace de datos: https://en.wikipedia.org/wiki/List_of_postal_codes_of_Canada:_M\n",
                "\n",
                "Usaremos el conjunto de datos de Scarborough que eliminamos de wikipedia en la semana 3. Conjunto de datos que consta de latitud y longitud, códigos postales."
            ]
        },
        {
            "cell_type": "markdown",
            "metadata": {},
            "source": [
                "## Datos de la API de Foursquare:"
            ]
        },
        {
            "cell_type": "markdown",
            "metadata": {},
            "source": [
                "Necesitaremos datos sobre diferentes lugares en diferentes vecindarios de ese distrito específico. Para obtener esa información, utilizaremos la información de ubicación de \"Foursquare\". Foursquare es un proveedor de datos de ubicación con información sobre todo tipo de lugares y eventos dentro de un área de interés. Dicha información incluye nombres de lugares, ubicaciones, menús e incluso fotos. Como tal, la plataforma de ubicación de Foursquare se utilizará como única fuente de datos, ya que toda la información requerida indicada se puede obtener a través de la API.\n",
                "\n",
                "Después de encontrar la lista de vecindarios, nos conectamos a la API de Foursquare para recopilar información sobre los lugares dentro de todos y cada uno de los vecindarios. Para cada barrio, hemos elegido que el radio sea de 100 metros."
            ]
        },
        {
            "cell_type": "markdown",
            "metadata": {
                "collapsed": true
            },
            "source": [
                "Los datos recuperados de Foursquare contenían información de lugares dentro de una distancia específica de la longitud y latitud de los códigos postales. La información obtenida por sede es la siguiente:\n",
                "\n",
                "1. Vecindario\n",
                "2. Latitud del vecindario\n",
                "3. Longitud del vecindario\n",
                "4. Lugar\n",
                "5. Nombre del lugar, por ejemplo, el nombre de una tienda o restaurante\n",
                "6. Latitud del lugar\n",
                "7. Longitud del lugar\n",
                "8. Categoría del lugar"
            ]
        },
        {
            "cell_type": "code",
            "execution_count": null,
            "metadata": {},
            "outputs": [],
            "source": []
        }
    ],
    "metadata": {
        "kernelspec": {
            "display_name": "Python 3.6",
            "language": "python",
            "name": "python3"
        },
        "language_info": {
            "codemirror_mode": {
                "name": "ipython",
                "version": 3
            },
            "file_extension": ".py",
            "mimetype": "text/x-python",
            "name": "python",
            "nbconvert_exporter": "python",
            "pygments_lexer": "ipython3",
            "version": "3.6.9"
        }
    },
    "nbformat": 4,
    "nbformat_minor": 1
}
